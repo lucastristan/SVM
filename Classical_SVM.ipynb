{
 "cells": [
  {
   "cell_type": "code",
   "execution_count": 2,
   "metadata": {},
   "outputs": [],
   "source": [
    "import pandas as pd\n",
    "import time\n",
    "from sklearn.metrics import roc_curve, auc, precision_recall_curve, confusion_matrix\n",
    "from sklearn.model_selection import train_test_split\n",
    "from sklearn.svm import SVC"
   ]
  },
  {
   "cell_type": "code",
   "execution_count": 3,
   "metadata": {},
   "outputs": [],
   "source": [
    "pd.set_option(\"future.no_silent_downcasting\", True)\n",
    "\n",
    "# Load the Car Evaluation Dataset\n",
    "column_names = [\"Buying\", \"Maint\", \"Doors\", \"Persons\", \"Lug_Boot\", \"Safety\", \"Class\"]\n",
    "\n",
    "data = pd.read_csv(\"C:/Users/lucas/OneDrive/Escritorio/Universidad/MASTER/1_SEMESTER/ML/data/car.data\", names=column_names)\n",
    "\n",
    "# Convert categorical values to numerical values\n",
    "categorical_columns = [\"Buying\", \"Maint\", \"Doors\", \"Persons\", \"Lug_Boot\", \"Safety\", \"Class\"]\n",
    "for col in categorical_columns:\n",
    "    data[col] = data[col].astype(\"category\").cat.codes"
   ]
  },
  {
   "cell_type": "code",
   "execution_count": 4,
   "metadata": {},
   "outputs": [
    {
     "name": "stdout",
     "output_type": "stream",
     "text": [
      "Train shape = (1209, 6)\n",
      "Test shape = (259, 6)\n",
      "Holdout shape = (260, 6)\n"
     ]
    }
   ],
   "source": [
    "# Separate features and target\n",
    "X = data.drop(columns=[\"Class\"]).values\n",
    "Y = data[\"Class\"].values\n",
    "\n",
    "# Split data into train, test, and holdout sets\n",
    "X_train, X_temp, Y_train, Y_temp = train_test_split(X, Y, test_size=0.3, random_state=42, stratify=Y)\n",
    "X_test, X_holdout, Y_test, Y_holdout = train_test_split(X_temp, Y_temp, test_size=0.5, random_state=42, stratify=Y_temp)\n",
    "\n",
    "print(\"Train shape =\", X_train.shape)\n",
    "print(\"Test shape =\", X_test.shape)\n",
    "print(\"Holdout shape =\", X_holdout.shape)"
   ]
  },
  {
   "cell_type": "code",
   "execution_count": 5,
   "metadata": {},
   "outputs": [
    {
     "name": "stdout",
     "output_type": "stream",
     "text": [
      "Accuracy: 0.5752895752895753\n",
      "Total Execution Time: 0.05 seconds\n"
     ]
    }
   ],
   "source": [
    "# Start timer\n",
    "start_time = time.time()\n",
    "\n",
    "# Train an SVM classifier\n",
    "selected_kernel = \"sigmoid\"\n",
    "clf_svm = SVC(kernel=selected_kernel, C=1.0, gamma=\"scale\")\n",
    "clf_svm.fit(X_train, Y_train)\n",
    "\n",
    "# Evaluate performance\n",
    "accuracy = clf_svm.score(X_test, Y_test)\n",
    "print(f\"Accuracy: {accuracy}\")\n",
    "\n",
    "\n",
    "# End timer\n",
    "end_time = time.time()\n",
    "execution_time = end_time - start_time\n",
    "print(f\"Total Execution Time: {execution_time:.2f} seconds\")"
   ]
  },
  {
   "cell_type": "code",
   "execution_count": 6,
   "metadata": {},
   "outputs": [
    {
     "name": "stdout",
     "output_type": "stream",
     "text": [
      "Confusion Matrix:\n",
      "[[ 20   0  36   1]\n",
      " [  4   0   7   0]\n",
      " [ 50   1 129   1]\n",
      " [  2   0   8   0]]\n"
     ]
    }
   ],
   "source": [
    "Y_pred = clf_svm.predict(X_test)\n",
    "conf_matrix = confusion_matrix(Y_test, Y_pred)\n",
    "print(\"Confusion Matrix:\")\n",
    "print(conf_matrix)"
   ]
  },
  {
   "cell_type": "code",
   "execution_count": null,
   "metadata": {},
   "outputs": [],
   "source": []
  }
 ],
 "metadata": {
  "kernelspec": {
   "display_name": "SVM_ZUECO",
   "language": "python",
   "name": "python3"
  },
  "language_info": {
   "codemirror_mode": {
    "name": "ipython",
    "version": 3
   },
   "file_extension": ".py",
   "mimetype": "text/x-python",
   "name": "python",
   "nbconvert_exporter": "python",
   "pygments_lexer": "ipython3",
   "version": "3.12.8"
  }
 },
 "nbformat": 4,
 "nbformat_minor": 2
}
